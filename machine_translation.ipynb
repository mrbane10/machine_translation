{
  "metadata": {
    "kernelspec": {
      "language": "python",
      "display_name": "Python 3",
      "name": "python3"
    },
    "language_info": {
      "name": "python",
      "version": "3.10.13",
      "mimetype": "text/x-python",
      "codemirror_mode": {
        "name": "ipython",
        "version": 3
      },
      "pygments_lexer": "ipython3",
      "nbconvert_exporter": "python",
      "file_extension": ".py"
    },
    "kaggle": {
      "accelerator": "nvidiaTeslaT4",
      "dataSources": [
        {
          "sourceId": 8769986,
          "sourceType": "datasetVersion",
          "datasetId": 5270047
        }
      ],
      "dockerImageVersionId": 30733,
      "isInternetEnabled": true,
      "language": "python",
      "sourceType": "notebook",
      "isGpuEnabled": true
    },
    "colab": {
      "name": "machine_translation",
      "provenance": [],
      "include_colab_link": true
    }
  },
  "nbformat_minor": 0,
  "nbformat": 4,
  "cells": [
    {
      "cell_type": "markdown",
      "metadata": {
        "id": "view-in-github",
        "colab_type": "text"
      },
      "source": [
        "<a href=\"https://colab.research.google.com/github/mrbane10/machine_translation/blob/main/machine_translation.ipynb\" target=\"_parent\"><img src=\"https://colab.research.google.com/assets/colab-badge.svg\" alt=\"Open In Colab\"/></a>"
      ]
    },
    {
      "source": [
        "\n",
        "# IMPORTANT: RUN THIS CELL IN ORDER TO IMPORT YOUR KAGGLE DATA SOURCES\n",
        "# TO THE CORRECT LOCATION (/kaggle/input) IN YOUR NOTEBOOK,\n",
        "# THEN FEEL FREE TO DELETE THIS CELL.\n",
        "# NOTE: THIS NOTEBOOK ENVIRONMENT DIFFERS FROM KAGGLE'S PYTHON\n",
        "# ENVIRONMENT SO THERE MAY BE MISSING LIBRARIES USED BY YOUR\n",
        "# NOTEBOOK.\n",
        "\n",
        "import os\n",
        "import sys\n",
        "from tempfile import NamedTemporaryFile\n",
        "from urllib.request import urlopen\n",
        "from urllib.parse import unquote, urlparse\n",
        "from urllib.error import HTTPError\n",
        "from zipfile import ZipFile\n",
        "import tarfile\n",
        "import shutil\n",
        "\n",
        "CHUNK_SIZE = 40960\n",
        "DATA_SOURCE_MAPPING = 'german-english:https%3A%2F%2Fstorage.googleapis.com%2Fkaggle-data-sets%2F5270047%2F8769986%2Fbundle%2Farchive.zip%3FX-Goog-Algorithm%3DGOOG4-RSA-SHA256%26X-Goog-Credential%3Dgcp-kaggle-com%2540kaggle-161607.iam.gserviceaccount.com%252F20240624%252Fauto%252Fstorage%252Fgoog4_request%26X-Goog-Date%3D20240624T181702Z%26X-Goog-Expires%3D259200%26X-Goog-SignedHeaders%3Dhost%26X-Goog-Signature%3D06be49769d2574817ca2183d7b3b2ae511ea8cdb7b1cc27750625215e4f1ae6fb5514d73323e81ff125326d5115ed7e101c2f52041c58d22208f245a8147dddf7233ad8a88803bfc83bb7824e99057fe3f20d2fc3b5df264016c5be5b260529f5b558c8c90574635cfbcebe3d51c18930a8d58cf410b71ded47ab560e3596a7161d9596b14b7125eba05438f962a94ade1a147d66959cb22c6a60db28b41ee90977b3f7285ae60b671ea46711d3011c3f1433147837a8e701b4aa6e2dd3111ed4988e1fa07b05f04c99e35b1fac17652d33008e0326cab51c1f666b9556379e6a331eaf3aa416910859ff9f7bec816a4724e118a97d984a03c611ff16ff49d48'\n",
        "\n",
        "KAGGLE_INPUT_PATH='/kaggle/input'\n",
        "KAGGLE_WORKING_PATH='/kaggle/working'\n",
        "KAGGLE_SYMLINK='kaggle'\n",
        "\n",
        "!umount /kaggle/input/ 2> /dev/null\n",
        "shutil.rmtree('/kaggle/input', ignore_errors=True)\n",
        "os.makedirs(KAGGLE_INPUT_PATH, 0o777, exist_ok=True)\n",
        "os.makedirs(KAGGLE_WORKING_PATH, 0o777, exist_ok=True)\n",
        "\n",
        "try:\n",
        "  os.symlink(KAGGLE_INPUT_PATH, os.path.join(\"..\", 'input'), target_is_directory=True)\n",
        "except FileExistsError:\n",
        "  pass\n",
        "try:\n",
        "  os.symlink(KAGGLE_WORKING_PATH, os.path.join(\"..\", 'working'), target_is_directory=True)\n",
        "except FileExistsError:\n",
        "  pass\n",
        "\n",
        "for data_source_mapping in DATA_SOURCE_MAPPING.split(','):\n",
        "    directory, download_url_encoded = data_source_mapping.split(':')\n",
        "    download_url = unquote(download_url_encoded)\n",
        "    filename = urlparse(download_url).path\n",
        "    destination_path = os.path.join(KAGGLE_INPUT_PATH, directory)\n",
        "    try:\n",
        "        with urlopen(download_url) as fileres, NamedTemporaryFile() as tfile:\n",
        "            total_length = fileres.headers['content-length']\n",
        "            print(f'Downloading {directory}, {total_length} bytes compressed')\n",
        "            dl = 0\n",
        "            data = fileres.read(CHUNK_SIZE)\n",
        "            while len(data) > 0:\n",
        "                dl += len(data)\n",
        "                tfile.write(data)\n",
        "                done = int(50 * dl / int(total_length))\n",
        "                sys.stdout.write(f\"\\r[{'=' * done}{' ' * (50-done)}] {dl} bytes downloaded\")\n",
        "                sys.stdout.flush()\n",
        "                data = fileres.read(CHUNK_SIZE)\n",
        "            if filename.endswith('.zip'):\n",
        "              with ZipFile(tfile) as zfile:\n",
        "                zfile.extractall(destination_path)\n",
        "            else:\n",
        "              with tarfile.open(tfile.name) as tarfile:\n",
        "                tarfile.extractall(destination_path)\n",
        "            print(f'\\nDownloaded and uncompressed: {directory}')\n",
        "    except HTTPError as e:\n",
        "        print(f'Failed to load (likely expired) {download_url} to path {destination_path}')\n",
        "        continue\n",
        "    except OSError as e:\n",
        "        print(f'Failed to load {download_url} to path {destination_path}')\n",
        "        continue\n",
        "\n",
        "print('Data source import complete.')\n"
      ],
      "metadata": {
        "id": "viiDZ3Gpfk5o"
      },
      "cell_type": "code",
      "outputs": [],
      "execution_count": null
    },
    {
      "cell_type": "code",
      "source": [
        "# This Python 3 environment comes with many helpful analytics libraries installed\n",
        "# It is defined by the kaggle/python Docker image: https://github.com/kaggle/docker-python\n",
        "# For example, here's several helpful packages to load\n",
        "\n",
        "import numpy as np # linear algebra\n",
        "import pandas as pd # data processing, CSV file I/O (e.g. pd.read_csv)\n",
        "\n",
        "# Input data files are available in the read-only \"../input/\" directory\n",
        "# For example, running this (by clicking run or pressing Shift+Enter) will list all files under the input directory\n",
        "\n",
        "import os\n",
        "for dirname, _, filenames in os.walk('/kaggle/input'):\n",
        "    for filename in filenames:\n",
        "        print(os.path.join(dirname, filename))\n",
        "\n",
        "# You can write up to 20GB to the current directory (/kaggle/working/) that gets preserved as output when you create a version using \"Save & Run All\"\n",
        "# You can also write temporary files to /kaggle/temp/, but they won't be saved outside of the current session"
      ],
      "metadata": {
        "_uuid": "8f2839f25d086af736a60e9eeb907d3b93b6e0e5",
        "_cell_guid": "b1076dfc-b9ad-4769-8c92-a6c4dae69d19",
        "execution": {
          "iopub.status.busy": "2024-06-24T18:15:40.694565Z",
          "iopub.execute_input": "2024-06-24T18:15:40.694946Z",
          "iopub.status.idle": "2024-06-24T18:15:40.704472Z",
          "shell.execute_reply.started": "2024-06-24T18:15:40.694913Z",
          "shell.execute_reply": "2024-06-24T18:15:40.703436Z"
        },
        "trusted": true,
        "id": "Z_47FUvEfk5p",
        "outputId": "de445c05-a829-43ec-86cb-92ada939ed4a"
      },
      "execution_count": null,
      "outputs": [
        {
          "name": "stdout",
          "text": "/kaggle/input/german-english/deu.txt\n",
          "output_type": "stream"
        }
      ]
    },
    {
      "cell_type": "code",
      "source": [
        "import string\n",
        "import re\n",
        "from numpy import array, argmax, random, take\n",
        "import pandas as pd\n",
        "from tensorflow import keras\n",
        "from tensorflow.keras.models import Sequential\n",
        "from tensorflow.keras.layers import Dense, LSTM, Embedding, RepeatVector\n",
        "from tensorflow.keras.preprocessing.text import Tokenizer\n",
        "from tensorflow.keras.callbacks import ModelCheckpoint\n",
        "from tensorflow.keras.preprocessing.sequence import pad_sequences\n",
        "from tensorflow.keras.models import load_model\n",
        "from tensorflow.keras import optimizers\n",
        "import matplotlib.pyplot as plt\n",
        "%matplotlib inline\n",
        "pd.set_option('display.max_colwidth', 200)"
      ],
      "metadata": {
        "execution": {
          "iopub.status.busy": "2024-06-24T18:15:40.997657Z",
          "iopub.execute_input": "2024-06-24T18:15:40.998046Z",
          "iopub.status.idle": "2024-06-24T18:15:41.007494Z",
          "shell.execute_reply.started": "2024-06-24T18:15:40.998013Z",
          "shell.execute_reply": "2024-06-24T18:15:41.006423Z"
        },
        "trusted": true,
        "id": "n8H-HZBtfk5p"
      },
      "execution_count": null,
      "outputs": []
    },
    {
      "cell_type": "code",
      "source": [
        "def read_text(filename):\n",
        "        file = open(filename, mode='rt', encoding='utf-8')\n",
        "        text = file.read()\n",
        "        file.close()\n",
        "        return text"
      ],
      "metadata": {
        "execution": {
          "iopub.status.busy": "2024-06-24T18:15:41.752393Z",
          "iopub.execute_input": "2024-06-24T18:15:41.753154Z",
          "iopub.status.idle": "2024-06-24T18:15:41.757801Z",
          "shell.execute_reply.started": "2024-06-24T18:15:41.753116Z",
          "shell.execute_reply": "2024-06-24T18:15:41.756857Z"
        },
        "trusted": true,
        "id": "ZmIxcpT8fk5q"
      },
      "execution_count": null,
      "outputs": []
    },
    {
      "cell_type": "code",
      "source": [
        "data = read_text(\"/kaggle/input/german-english/deu.txt\")\n",
        "data[:180]"
      ],
      "metadata": {
        "execution": {
          "iopub.status.busy": "2024-06-24T18:15:42.583026Z",
          "iopub.execute_input": "2024-06-24T18:15:42.583932Z",
          "iopub.status.idle": "2024-06-24T18:15:42.937257Z",
          "shell.execute_reply.started": "2024-06-24T18:15:42.583899Z",
          "shell.execute_reply": "2024-06-24T18:15:42.936205Z"
        },
        "trusted": true,
        "id": "MuDZ2Pujfk5q",
        "outputId": "92f20cc5-94f2-4636-f112-127b51b5f876"
      },
      "execution_count": null,
      "outputs": [
        {
          "execution_count": 7,
          "output_type": "execute_result",
          "data": {
            "text/plain": "'Go.\\tGeh.\\tCC-BY 2.0 (France) Attribution: tatoeba.org #2877272 (CM) & #8597805 (Roujin)\\nHi.\\tHallo!\\tCC-BY 2.0 (France) Attribution: tatoeba.org #538123 (CM) & #380701 (cburgmer)\\nHi.\\t'"
          },
          "metadata": {}
        }
      ]
    },
    {
      "cell_type": "code",
      "source": [
        "def to_lines(text):\n",
        "      sents = text.strip().split('\\n')\n",
        "      sents = [i.split('\\t') for i in sents]\n",
        "      return sents"
      ],
      "metadata": {
        "execution": {
          "iopub.status.busy": "2024-06-24T18:15:42.938923Z",
          "iopub.execute_input": "2024-06-24T18:15:42.939252Z",
          "iopub.status.idle": "2024-06-24T18:15:42.944151Z",
          "shell.execute_reply.started": "2024-06-24T18:15:42.939225Z",
          "shell.execute_reply": "2024-06-24T18:15:42.943086Z"
        },
        "trusted": true,
        "id": "-Xbbar2Nfk5q"
      },
      "execution_count": null,
      "outputs": []
    },
    {
      "cell_type": "code",
      "source": [
        "lines=to_lines(data)\n",
        "lines[:5]"
      ],
      "metadata": {
        "execution": {
          "iopub.status.busy": "2024-06-24T18:15:43.737024Z",
          "iopub.execute_input": "2024-06-24T18:15:43.737923Z",
          "iopub.status.idle": "2024-06-24T18:15:44.527131Z",
          "shell.execute_reply.started": "2024-06-24T18:15:43.737886Z",
          "shell.execute_reply": "2024-06-24T18:15:44.526129Z"
        },
        "trusted": true,
        "id": "CgQwuAoAfk5q",
        "outputId": "95a6cb98-6079-4257-8b7d-73455770b84e"
      },
      "execution_count": null,
      "outputs": [
        {
          "execution_count": 9,
          "output_type": "execute_result",
          "data": {
            "text/plain": "[['Go.',\n  'Geh.',\n  'CC-BY 2.0 (France) Attribution: tatoeba.org #2877272 (CM) & #8597805 (Roujin)'],\n ['Hi.',\n  'Hallo!',\n  'CC-BY 2.0 (France) Attribution: tatoeba.org #538123 (CM) & #380701 (cburgmer)'],\n ['Hi.',\n  'Grüß Gott!',\n  'CC-BY 2.0 (France) Attribution: tatoeba.org #538123 (CM) & #659813 (Esperantostern)'],\n ['Run!',\n  'Lauf!',\n  'CC-BY 2.0 (France) Attribution: tatoeba.org #906328 (papabear) & #941078 (Fingerhut)'],\n ['Run.',\n  'Lauf!',\n  'CC-BY 2.0 (France) Attribution: tatoeba.org #4008918 (JSakuragi) & #941078 (Fingerhut)']]"
          },
          "metadata": {}
        }
      ]
    },
    {
      "cell_type": "code",
      "source": [
        "deu_eng = array(lines)\n",
        "deu_eng"
      ],
      "metadata": {
        "execution": {
          "iopub.status.busy": "2024-06-24T18:15:44.528739Z",
          "iopub.execute_input": "2024-06-24T18:15:44.5291Z",
          "iopub.status.idle": "2024-06-24T18:15:46.031871Z",
          "shell.execute_reply.started": "2024-06-24T18:15:44.529071Z",
          "shell.execute_reply": "2024-06-24T18:15:46.03085Z"
        },
        "trusted": true,
        "id": "6wigk2EPfk5q",
        "outputId": "abd951aa-8f7c-41f0-c950-4d41f91afb9d"
      },
      "execution_count": null,
      "outputs": [
        {
          "execution_count": 10,
          "output_type": "execute_result",
          "data": {
            "text/plain": "array([['Go.', 'Geh.',\n        'CC-BY 2.0 (France) Attribution: tatoeba.org #2877272 (CM) & #8597805 (Roujin)'],\n       ['Hi.', 'Hallo!',\n        'CC-BY 2.0 (France) Attribution: tatoeba.org #538123 (CM) & #380701 (cburgmer)'],\n       ['Hi.', 'Grüß Gott!',\n        'CC-BY 2.0 (France) Attribution: tatoeba.org #538123 (CM) & #659813 (Esperantostern)'],\n       ...,\n       ['It may be impossible to get a completely error-free corpus due to the nature of this kind of collaborative effort. However, if we encourage members to contribute sentences in their own languages rather than experiment in languages they are learning, we might be able to minimize errors.',\n        'Es ist wohl unmöglich, einen vollkommen fehlerfreien Korpus zu erreichen\\xa0— das liegt in der Natur eines solchen Gemeinschaftsprojekts. Doch wenn wir unsere Mitglieder dazu bringen können, nicht mit Sprachen herumzuexperimentieren, die sie gerade lernen, sondern Sätze in ihrer eigenen Muttersprache beizutragen, dann gelingt es uns vielleicht, die Zahl der Fehler klein zu halten.',\n        'CC-BY 2.0 (France) Attribution: tatoeba.org #2024159 (CK) & #2174272 (Pfirsichbaeumchen)'],\n       [\"I know that adding sentences only in your native or strongest language is probably not as much fun as practicing writing foreign languages, but please don't add sentences to the Tatoeba Corpus if you are not absolutely sure they are correct. If you want to practice languages that you are studying, please do so by using a website designed for that purpose such as www.lang-8.com.\",\n        'Ich weiß wohl, dass das ausschließliche Beitragen von Sätzen in der Muttersprache\\xa0– oder der am besten beherrschten Sprache\\xa0– nicht ganz so viel Spaß macht, wie sich im Schreiben von Fremdsprachen zu üben; steuere beim Tatoeba-Korpus aber bitte trotzdem keine Sätze bei, über deren Korrektheit du dir nicht völlig im Klaren bist. Wenn du Sprachen, die du gerade lernst, üben möchtest, verwende dazu bitte Netzangebote, die eigens hierfür eingerichtet wurden, wie zum Beispiel www.lang-8.com.',\n        'CC-BY 2.0 (France) Attribution: tatoeba.org #3847634 (CM) & #4878147 (Pfirsichbaeumchen)'],\n       ['Doubtless there exists in this world precisely the right woman for any given man to marry and vice versa; but when you consider that a human being has the opportunity of being acquainted with only a few hundred people, and out of the few hundred that there are but a dozen or less whom he knows intimately, and out of the dozen, one or two friends at most, it will easily be seen, when we remember the number of millions who inhabit this world, that probably, since the earth was created, the right man has never yet met the right woman.',\n        'Ohne Zweifel findet sich auf dieser Welt zu jedem Mann genau die richtige Ehefrau und umgekehrt; wenn man jedoch in Betracht zieht, dass ein Mensch nur Gelegenheit hat, mit ein paar hundert anderen bekannt zu sein, von denen ihm nur ein Dutzend oder weniger nahesteht, darunter höchstens ein oder zwei Freunde, dann erahnt man eingedenk der Millionen Einwohner dieser Welt\\xa0leicht, dass seit Erschaffung ebenderselben wohl noch nie der richtige Mann der richtigen Frau begegnet ist.',\n        'CC-BY 2.0 (France) Attribution: tatoeba.org #7697649 (RM) & #7729416 (Pfirsichbaeumchen)']],\n      dtype='<U537')"
          },
          "metadata": {}
        }
      ]
    },
    {
      "cell_type": "code",
      "source": [
        "deu_eng"
      ],
      "metadata": {
        "execution": {
          "iopub.status.busy": "2024-06-24T18:15:46.033497Z",
          "iopub.execute_input": "2024-06-24T18:15:46.033857Z",
          "iopub.status.idle": "2024-06-24T18:15:46.041994Z",
          "shell.execute_reply.started": "2024-06-24T18:15:46.033828Z",
          "shell.execute_reply": "2024-06-24T18:15:46.041141Z"
        },
        "trusted": true,
        "id": "mgfnWRlCfk5q",
        "outputId": "8715923b-35f4-4143-d923-505e6f2cda8b"
      },
      "execution_count": null,
      "outputs": [
        {
          "execution_count": 11,
          "output_type": "execute_result",
          "data": {
            "text/plain": "array([['Go.', 'Geh.',\n        'CC-BY 2.0 (France) Attribution: tatoeba.org #2877272 (CM) & #8597805 (Roujin)'],\n       ['Hi.', 'Hallo!',\n        'CC-BY 2.0 (France) Attribution: tatoeba.org #538123 (CM) & #380701 (cburgmer)'],\n       ['Hi.', 'Grüß Gott!',\n        'CC-BY 2.0 (France) Attribution: tatoeba.org #538123 (CM) & #659813 (Esperantostern)'],\n       ...,\n       ['It may be impossible to get a completely error-free corpus due to the nature of this kind of collaborative effort. However, if we encourage members to contribute sentences in their own languages rather than experiment in languages they are learning, we might be able to minimize errors.',\n        'Es ist wohl unmöglich, einen vollkommen fehlerfreien Korpus zu erreichen\\xa0— das liegt in der Natur eines solchen Gemeinschaftsprojekts. Doch wenn wir unsere Mitglieder dazu bringen können, nicht mit Sprachen herumzuexperimentieren, die sie gerade lernen, sondern Sätze in ihrer eigenen Muttersprache beizutragen, dann gelingt es uns vielleicht, die Zahl der Fehler klein zu halten.',\n        'CC-BY 2.0 (France) Attribution: tatoeba.org #2024159 (CK) & #2174272 (Pfirsichbaeumchen)'],\n       [\"I know that adding sentences only in your native or strongest language is probably not as much fun as practicing writing foreign languages, but please don't add sentences to the Tatoeba Corpus if you are not absolutely sure they are correct. If you want to practice languages that you are studying, please do so by using a website designed for that purpose such as www.lang-8.com.\",\n        'Ich weiß wohl, dass das ausschließliche Beitragen von Sätzen in der Muttersprache\\xa0– oder der am besten beherrschten Sprache\\xa0– nicht ganz so viel Spaß macht, wie sich im Schreiben von Fremdsprachen zu üben; steuere beim Tatoeba-Korpus aber bitte trotzdem keine Sätze bei, über deren Korrektheit du dir nicht völlig im Klaren bist. Wenn du Sprachen, die du gerade lernst, üben möchtest, verwende dazu bitte Netzangebote, die eigens hierfür eingerichtet wurden, wie zum Beispiel www.lang-8.com.',\n        'CC-BY 2.0 (France) Attribution: tatoeba.org #3847634 (CM) & #4878147 (Pfirsichbaeumchen)'],\n       ['Doubtless there exists in this world precisely the right woman for any given man to marry and vice versa; but when you consider that a human being has the opportunity of being acquainted with only a few hundred people, and out of the few hundred that there are but a dozen or less whom he knows intimately, and out of the dozen, one or two friends at most, it will easily be seen, when we remember the number of millions who inhabit this world, that probably, since the earth was created, the right man has never yet met the right woman.',\n        'Ohne Zweifel findet sich auf dieser Welt zu jedem Mann genau die richtige Ehefrau und umgekehrt; wenn man jedoch in Betracht zieht, dass ein Mensch nur Gelegenheit hat, mit ein paar hundert anderen bekannt zu sein, von denen ihm nur ein Dutzend oder weniger nahesteht, darunter höchstens ein oder zwei Freunde, dann erahnt man eingedenk der Millionen Einwohner dieser Welt\\xa0leicht, dass seit Erschaffung ebenderselben wohl noch nie der richtige Mann der richtigen Frau begegnet ist.',\n        'CC-BY 2.0 (France) Attribution: tatoeba.org #7697649 (RM) & #7729416 (Pfirsichbaeumchen)']],\n      dtype='<U537')"
          },
          "metadata": {}
        }
      ]
    },
    {
      "cell_type": "code",
      "source": [
        "deu_eng[:,0] = [s.translate(str.maketrans('', '', string.punctuation)) for s in deu_eng[:,0]]\n",
        "deu_eng[:,1] = [s.translate(str.maketrans('', '', string.punctuation)) for s in deu_eng[:,1]]"
      ],
      "metadata": {
        "execution": {
          "iopub.status.busy": "2024-06-24T18:15:46.04315Z",
          "iopub.execute_input": "2024-06-24T18:15:46.043432Z",
          "iopub.status.idle": "2024-06-24T18:15:49.588837Z",
          "shell.execute_reply.started": "2024-06-24T18:15:46.043407Z",
          "shell.execute_reply": "2024-06-24T18:15:49.587968Z"
        },
        "trusted": true,
        "id": "MVa0Nt6Nfk5q"
      },
      "execution_count": null,
      "outputs": []
    },
    {
      "cell_type": "code",
      "source": [
        "deu_eng"
      ],
      "metadata": {
        "execution": {
          "iopub.status.busy": "2024-06-24T18:15:49.590703Z",
          "iopub.execute_input": "2024-06-24T18:15:49.591026Z",
          "iopub.status.idle": "2024-06-24T18:15:49.597397Z",
          "shell.execute_reply.started": "2024-06-24T18:15:49.590998Z",
          "shell.execute_reply": "2024-06-24T18:15:49.596549Z"
        },
        "trusted": true,
        "id": "VDcdScVwfk5r",
        "outputId": "b4fda4b4-2e50-4465-ca15-43500ea9319e"
      },
      "execution_count": null,
      "outputs": [
        {
          "execution_count": 13,
          "output_type": "execute_result",
          "data": {
            "text/plain": "array([['Go', 'Geh',\n        'CC-BY 2.0 (France) Attribution: tatoeba.org #2877272 (CM) & #8597805 (Roujin)'],\n       ['Hi', 'Hallo',\n        'CC-BY 2.0 (France) Attribution: tatoeba.org #538123 (CM) & #380701 (cburgmer)'],\n       ['Hi', 'Grüß Gott',\n        'CC-BY 2.0 (France) Attribution: tatoeba.org #538123 (CM) & #659813 (Esperantostern)'],\n       ...,\n       ['It may be impossible to get a completely errorfree corpus due to the nature of this kind of collaborative effort However if we encourage members to contribute sentences in their own languages rather than experiment in languages they are learning we might be able to minimize errors',\n        'Es ist wohl unmöglich einen vollkommen fehlerfreien Korpus zu erreichen\\xa0— das liegt in der Natur eines solchen Gemeinschaftsprojekts Doch wenn wir unsere Mitglieder dazu bringen können nicht mit Sprachen herumzuexperimentieren die sie gerade lernen sondern Sätze in ihrer eigenen Muttersprache beizutragen dann gelingt es uns vielleicht die Zahl der Fehler klein zu halten',\n        'CC-BY 2.0 (France) Attribution: tatoeba.org #2024159 (CK) & #2174272 (Pfirsichbaeumchen)'],\n       ['I know that adding sentences only in your native or strongest language is probably not as much fun as practicing writing foreign languages but please dont add sentences to the Tatoeba Corpus if you are not absolutely sure they are correct If you want to practice languages that you are studying please do so by using a website designed for that purpose such as wwwlang8com',\n        'Ich weiß wohl dass das ausschließliche Beitragen von Sätzen in der Muttersprache\\xa0– oder der am besten beherrschten Sprache\\xa0– nicht ganz so viel Spaß macht wie sich im Schreiben von Fremdsprachen zu üben steuere beim TatoebaKorpus aber bitte trotzdem keine Sätze bei über deren Korrektheit du dir nicht völlig im Klaren bist Wenn du Sprachen die du gerade lernst üben möchtest verwende dazu bitte Netzangebote die eigens hierfür eingerichtet wurden wie zum Beispiel wwwlang8com',\n        'CC-BY 2.0 (France) Attribution: tatoeba.org #3847634 (CM) & #4878147 (Pfirsichbaeumchen)'],\n       ['Doubtless there exists in this world precisely the right woman for any given man to marry and vice versa but when you consider that a human being has the opportunity of being acquainted with only a few hundred people and out of the few hundred that there are but a dozen or less whom he knows intimately and out of the dozen one or two friends at most it will easily be seen when we remember the number of millions who inhabit this world that probably since the earth was created the right man has never yet met the right woman',\n        'Ohne Zweifel findet sich auf dieser Welt zu jedem Mann genau die richtige Ehefrau und umgekehrt wenn man jedoch in Betracht zieht dass ein Mensch nur Gelegenheit hat mit ein paar hundert anderen bekannt zu sein von denen ihm nur ein Dutzend oder weniger nahesteht darunter höchstens ein oder zwei Freunde dann erahnt man eingedenk der Millionen Einwohner dieser Welt\\xa0leicht dass seit Erschaffung ebenderselben wohl noch nie der richtige Mann der richtigen Frau begegnet ist',\n        'CC-BY 2.0 (France) Attribution: tatoeba.org #7697649 (RM) & #7729416 (Pfirsichbaeumchen)']],\n      dtype='<U537')"
          },
          "metadata": {}
        }
      ]
    },
    {
      "cell_type": "code",
      "source": [
        "for i in range(len(deu_eng)):\n",
        "    deu_eng[i,0] = deu_eng[i,0].lower()\n",
        "    deu_eng[i,1] = deu_eng[i,1].lower()"
      ],
      "metadata": {
        "execution": {
          "iopub.status.busy": "2024-06-24T18:15:49.598594Z",
          "iopub.execute_input": "2024-06-24T18:15:49.598871Z",
          "iopub.status.idle": "2024-06-24T18:15:51.137416Z",
          "shell.execute_reply.started": "2024-06-24T18:15:49.598846Z",
          "shell.execute_reply": "2024-06-24T18:15:51.136361Z"
        },
        "trusted": true,
        "id": "eoWk8ybefk5r"
      },
      "execution_count": null,
      "outputs": []
    },
    {
      "cell_type": "code",
      "source": [
        "deu_eng[100:110]"
      ],
      "metadata": {
        "execution": {
          "iopub.status.busy": "2024-06-24T18:15:51.530036Z",
          "iopub.execute_input": "2024-06-24T18:15:51.530427Z",
          "iopub.status.idle": "2024-06-24T18:15:51.53706Z",
          "shell.execute_reply.started": "2024-06-24T18:15:51.530395Z",
          "shell.execute_reply": "2024-06-24T18:15:51.536161Z"
        },
        "trusted": true,
        "id": "6zDRaWZVfk5r",
        "outputId": "20f452bc-c1cf-42c6-addd-5deaeeb79385"
      },
      "execution_count": null,
      "outputs": [
        {
          "execution_count": 15,
          "output_type": "execute_result",
          "data": {
            "text/plain": "array([['no way', 'das kommt nicht in frage',\n        'CC-BY 2.0 (France) Attribution: tatoeba.org #2175 (CM) & #444494 (Espi)'],\n       ['no way', 'das gibt’s doch nicht',\n        'CC-BY 2.0 (France) Attribution: tatoeba.org #2175 (CM) & #722128 (Pfirsichbaeumchen)'],\n       ['no way', 'ausgeschlossen',\n        'CC-BY 2.0 (France) Attribution: tatoeba.org #2175 (CM) & #1670006 (Pfirsichbaeumchen)'],\n       ['no way', 'in keinster weise',\n        'CC-BY 2.0 (France) Attribution: tatoeba.org #2175 (CM) & #2344583 (Vortarulo)'],\n       ['really', 'wirklich',\n        'CC-BY 2.0 (France) Attribution: tatoeba.org #373216 (kotobaboke) & #373376 (lilygilder)'],\n       ['really', 'echt',\n        'CC-BY 2.0 (France) Attribution: tatoeba.org #373216 (kotobaboke) & #808911 (Manfredo)'],\n       ['really', 'im ernst',\n        'CC-BY 2.0 (France) Attribution: tatoeba.org #373216 (kotobaboke) & #937379 (Sudajaengi)'],\n       ['thanks', 'danke',\n        'CC-BY 2.0 (France) Attribution: tatoeba.org #448645 (CK) & #397489 (MUIRIEL)'],\n       ['thanks', 'danke',\n        'CC-BY 2.0 (France) Attribution: tatoeba.org #2057650 (nava) & #397489 (MUIRIEL)'],\n       ['try it', 'versuch’s',\n        'CC-BY 2.0 (France) Attribution: tatoeba.org #4756252 (cairnhead) & #4756673 (raggione)']],\n      dtype='<U537')"
          },
          "metadata": {}
        }
      ]
    },
    {
      "cell_type": "code",
      "source": [
        "eng_l = []\n",
        "deu_l = []\n",
        "for i in deu_eng[:,0]:\n",
        "      eng_l.append(len(i.split()))\n",
        "\n",
        "for i in deu_eng[:,1]:\n",
        "      deu_l.append(len(i.split()))\n"
      ],
      "metadata": {
        "execution": {
          "iopub.status.busy": "2024-06-24T18:15:52.64605Z",
          "iopub.execute_input": "2024-06-24T18:15:52.646441Z",
          "iopub.status.idle": "2024-06-24T18:15:54.195946Z",
          "shell.execute_reply.started": "2024-06-24T18:15:52.646407Z",
          "shell.execute_reply": "2024-06-24T18:15:54.195027Z"
        },
        "trusted": true,
        "id": "dVwxxw_dfk5r"
      },
      "execution_count": null,
      "outputs": []
    },
    {
      "cell_type": "code",
      "source": [
        "print(max(eng_l),max(deu_l))"
      ],
      "metadata": {
        "execution": {
          "iopub.status.busy": "2024-06-24T18:15:55.153997Z",
          "iopub.execute_input": "2024-06-24T18:15:55.154388Z",
          "iopub.status.idle": "2024-06-24T18:15:55.168237Z",
          "shell.execute_reply.started": "2024-06-24T18:15:55.154354Z",
          "shell.execute_reply": "2024-06-24T18:15:55.167126Z"
        },
        "trusted": true,
        "id": "CDW3B8r6fk5r",
        "outputId": "9ebb77a7-46f8-4a4c-f240-6f2ac0e9af06"
      },
      "execution_count": null,
      "outputs": [
        {
          "name": "stdout",
          "text": "101 76\n",
          "output_type": "stream"
        }
      ]
    },
    {
      "cell_type": "code",
      "source": [
        "length_df = pd.DataFrame({'eng':eng_l, 'deu':deu_l})"
      ],
      "metadata": {
        "execution": {
          "iopub.status.busy": "2024-06-24T18:15:55.842071Z",
          "iopub.execute_input": "2024-06-24T18:15:55.842424Z",
          "iopub.status.idle": "2024-06-24T18:15:56.099737Z",
          "shell.execute_reply.started": "2024-06-24T18:15:55.842397Z",
          "shell.execute_reply": "2024-06-24T18:15:56.098863Z"
        },
        "trusted": true,
        "id": "L_wKkmdhfk5r"
      },
      "execution_count": null,
      "outputs": []
    },
    {
      "cell_type": "code",
      "source": [
        "length_df.hist(bins = 30)\n",
        "plt.show()"
      ],
      "metadata": {
        "execution": {
          "iopub.status.busy": "2024-06-24T18:15:56.768133Z",
          "iopub.execute_input": "2024-06-24T18:15:56.768521Z",
          "iopub.status.idle": "2024-06-24T18:15:57.313151Z",
          "shell.execute_reply.started": "2024-06-24T18:15:56.768491Z",
          "shell.execute_reply": "2024-06-24T18:15:57.312237Z"
        },
        "trusted": true,
        "id": "lXO1veK_fk5r",
        "outputId": "c11b9f49-9a6a-429d-e8ae-2dd93fd8744d"
      },
      "execution_count": null,
      "outputs": [
        {
          "output_type": "display_data",
          "data": {
            "text/plain": "<Figure size 640x480 with 2 Axes>",
            "image/png": "[encoded data removed]"
          },
          "metadata": {}
        }
      ]
    },
    {
      "cell_type": "code",
      "source": [
        "length_df.shape"
      ],
      "metadata": {
        "execution": {
          "iopub.status.busy": "2024-06-24T18:15:58.22026Z",
          "iopub.execute_input": "2024-06-24T18:15:58.221188Z",
          "iopub.status.idle": "2024-06-24T18:15:58.227235Z",
          "shell.execute_reply.started": "2024-06-24T18:15:58.221151Z",
          "shell.execute_reply": "2024-06-24T18:15:58.226393Z"
        },
        "trusted": true,
        "id": "Cok0NjcWfk5r",
        "outputId": "52180361-7626-4935-c399-3c26b59a0b33"
      },
      "execution_count": null,
      "outputs": [
        {
          "execution_count": 20,
          "output_type": "execute_result",
          "data": {
            "text/plain": "(277891, 2)"
          },
          "metadata": {}
        }
      ]
    },
    {
      "cell_type": "code",
      "source": [
        "def tokenization(lines):\n",
        "      tokenizer = Tokenizer()\n",
        "      tokenizer.fit_on_texts(lines)\n",
        "      return tokenizer"
      ],
      "metadata": {
        "execution": {
          "iopub.status.busy": "2024-06-24T18:15:58.580381Z",
          "iopub.execute_input": "2024-06-24T18:15:58.580799Z",
          "iopub.status.idle": "2024-06-24T18:15:58.586036Z",
          "shell.execute_reply.started": "2024-06-24T18:15:58.580763Z",
          "shell.execute_reply": "2024-06-24T18:15:58.584949Z"
        },
        "trusted": true,
        "id": "kHOavCU4fk5r"
      },
      "execution_count": null,
      "outputs": []
    },
    {
      "cell_type": "code",
      "source": [
        "eng_tokenizer = tokenization(deu_eng[:, 0])\n",
        "eng_vocab_size = len(eng_tokenizer.word_index) + 1"
      ],
      "metadata": {
        "execution": {
          "iopub.status.busy": "2024-06-24T18:15:59.027136Z",
          "iopub.execute_input": "2024-06-24T18:15:59.02776Z",
          "iopub.status.idle": "2024-06-24T18:16:03.539286Z",
          "shell.execute_reply.started": "2024-06-24T18:15:59.027722Z",
          "shell.execute_reply": "2024-06-24T18:16:03.538432Z"
        },
        "trusted": true,
        "id": "BwmwheFkfk5r"
      },
      "execution_count": null,
      "outputs": []
    },
    {
      "cell_type": "code",
      "source": [
        "print('English Vocabulary Size: %d' % eng_vocab_size)"
      ],
      "metadata": {
        "execution": {
          "iopub.status.busy": "2024-06-24T18:16:03.541054Z",
          "iopub.execute_input": "2024-06-24T18:16:03.541509Z",
          "iopub.status.idle": "2024-06-24T18:16:03.546998Z",
          "shell.execute_reply.started": "2024-06-24T18:16:03.541474Z",
          "shell.execute_reply": "2024-06-24T18:16:03.545941Z"
        },
        "trusted": true,
        "id": "6prHUVXyfk5s",
        "outputId": "068c33ab-19dc-4415-9dcf-a571ad68455f"
      },
      "execution_count": null,
      "outputs": [
        {
          "name": "stdout",
          "text": "English Vocabulary Size: 18145\n",
          "output_type": "stream"
        }
      ]
    },
    {
      "cell_type": "code",
      "source": [
        "deu_tokenizer = tokenization(deu_eng[:, 1])\n",
        "deu_vocab_size = len(deu_tokenizer.word_index) + 1"
      ],
      "metadata": {
        "execution": {
          "iopub.status.busy": "2024-06-24T18:16:03.547981Z",
          "iopub.execute_input": "2024-06-24T18:16:03.548247Z",
          "iopub.status.idle": "2024-06-24T18:16:08.502786Z",
          "shell.execute_reply.started": "2024-06-24T18:16:03.548222Z",
          "shell.execute_reply": "2024-06-24T18:16:08.501954Z"
        },
        "trusted": true,
        "id": "QVhlN9lJfk5s"
      },
      "execution_count": null,
      "outputs": []
    },
    {
      "cell_type": "code",
      "source": [
        "print('Deutch Vocabulary Size: %d' % deu_vocab_size)"
      ],
      "metadata": {
        "execution": {
          "iopub.status.busy": "2024-06-24T18:16:08.504694Z",
          "iopub.execute_input": "2024-06-24T18:16:08.505025Z",
          "iopub.status.idle": "2024-06-24T18:16:08.509764Z",
          "shell.execute_reply.started": "2024-06-24T18:16:08.504996Z",
          "shell.execute_reply": "2024-06-24T18:16:08.508782Z"
        },
        "trusted": true,
        "id": "T4HESJHFfk5s",
        "outputId": "4eaf0886-53e4-4656-b012-f9f35524285a"
      },
      "execution_count": null,
      "outputs": [
        {
          "name": "stdout",
          "text": "Deutch Vocabulary Size: 40261\n",
          "output_type": "stream"
        }
      ]
    },
    {
      "cell_type": "code",
      "source": [
        "def encode_sequences(tokenizer, length, lines):\n",
        "         seq = tokenizer.texts_to_sequences(lines)\n",
        "         seq = pad_sequences(seq, maxlen=length, padding='post')\n",
        "         return seq"
      ],
      "metadata": {
        "execution": {
          "iopub.status.busy": "2024-06-24T18:16:08.510772Z",
          "iopub.execute_input": "2024-06-24T18:16:08.511069Z",
          "iopub.status.idle": "2024-06-24T18:16:08.520544Z",
          "shell.execute_reply.started": "2024-06-24T18:16:08.511044Z",
          "shell.execute_reply": "2024-06-24T18:16:08.519731Z"
        },
        "trusted": true,
        "id": "dJSL5F2Cfk5s"
      },
      "execution_count": null,
      "outputs": []
    },
    {
      "cell_type": "code",
      "source": [
        "from sklearn.model_selection import train_test_split\n",
        "\n",
        "train, test = train_test_split(deu_eng, test_size=0.2, random_state = 1)"
      ],
      "metadata": {
        "execution": {
          "iopub.status.busy": "2024-06-24T18:16:08.52147Z",
          "iopub.execute_input": "2024-06-24T18:16:08.52173Z",
          "iopub.status.idle": "2024-06-24T18:16:10.270618Z",
          "shell.execute_reply.started": "2024-06-24T18:16:08.521706Z",
          "shell.execute_reply": "2024-06-24T18:16:10.269506Z"
        },
        "trusted": true,
        "id": "gmayMDczfk5s"
      },
      "execution_count": null,
      "outputs": []
    },
    {
      "cell_type": "code",
      "source": [
        "x_train = encode_sequences(deu_tokenizer, max(deu_l), train[:, 1])\n",
        "y_train = encode_sequences(eng_tokenizer, max(eng_l), train[:, 0])"
      ],
      "metadata": {
        "execution": {
          "iopub.status.busy": "2024-06-24T18:16:10.272058Z",
          "iopub.execute_input": "2024-06-24T18:16:10.27398Z",
          "iopub.status.idle": "2024-06-24T18:16:19.064708Z",
          "shell.execute_reply.started": "2024-06-24T18:16:10.273924Z",
          "shell.execute_reply": "2024-06-24T18:16:19.063674Z"
        },
        "trusted": true,
        "id": "8R3gkJ-Ufk5s"
      },
      "execution_count": null,
      "outputs": []
    },
    {
      "cell_type": "code",
      "source": [
        "x_test = encode_sequences(deu_tokenizer, max(deu_l), test[:, 1])\n",
        "y_test = encode_sequences(eng_tokenizer, max(eng_l), test[:, 0])"
      ],
      "metadata": {
        "execution": {
          "iopub.status.busy": "2024-06-24T18:16:19.065941Z",
          "iopub.execute_input": "2024-06-24T18:16:19.066277Z",
          "iopub.status.idle": "2024-06-24T18:16:21.384172Z",
          "shell.execute_reply.started": "2024-06-24T18:16:19.066249Z",
          "shell.execute_reply": "2024-06-24T18:16:21.383244Z"
        },
        "trusted": true,
        "id": "-KJhRfyrfk5s"
      },
      "execution_count": null,
      "outputs": []
    },
    {
      "cell_type": "code",
      "source": [
        "#defing the model\n",
        "def define_model(in_vocab,out_vocab, in_timesteps,out_timesteps,units):\n",
        "      model = Sequential()\n",
        "      model.add(Embedding(in_vocab, units, input_length=in_timesteps, mask_zero=True))\n",
        "      model.add(LSTM(units))\n",
        "      model.add(RepeatVector(out_timesteps))\n",
        "      model.add(LSTM(units, return_sequences=True))\n",
        "      model.add(Dense(out_vocab, activation='softmax'))\n",
        "      return model"
      ],
      "metadata": {
        "execution": {
          "iopub.status.busy": "2024-06-24T18:16:21.386882Z",
          "iopub.execute_input": "2024-06-24T18:16:21.387607Z",
          "iopub.status.idle": "2024-06-24T18:16:21.393932Z",
          "shell.execute_reply.started": "2024-06-24T18:16:21.387565Z",
          "shell.execute_reply": "2024-06-24T18:16:21.392921Z"
        },
        "trusted": true,
        "id": "9vrw9b05fk5s"
      },
      "execution_count": null,
      "outputs": []
    },
    {
      "cell_type": "code",
      "source": [
        "model = define_model(deu_vocab_size, eng_vocab_size, max(deu_l), max(eng_l), 512)\n"
      ],
      "metadata": {
        "execution": {
          "iopub.status.busy": "2024-06-24T18:16:22.784699Z",
          "iopub.execute_input": "2024-06-24T18:16:22.7851Z",
          "iopub.status.idle": "2024-06-24T18:16:23.353403Z",
          "shell.execute_reply.started": "2024-06-24T18:16:22.785066Z",
          "shell.execute_reply": "2024-06-24T18:16:23.352602Z"
        },
        "trusted": true,
        "id": "qjKvge6rfk5s",
        "outputId": "5ae8f20b-3d97-4fb5-88dc-e3aac1115af5"
      },
      "execution_count": null,
      "outputs": [
        {
          "name": "stderr",
          "text": "/opt/conda/lib/python3.10/site-packages/keras/src/layers/core/embedding.py:90: UserWarning: Argument `input_length` is deprecated. Just remove it.\n  warnings.warn(\n",
          "output_type": "stream"
        }
      ]
    },
    {
      "cell_type": "code",
      "source": [
        "rms = optimizers.RMSprop(learning_rate=0.001)\n",
        "model.compile(optimizer=rms, loss='sparse_categorical_crossentropy')"
      ],
      "metadata": {
        "execution": {
          "iopub.status.busy": "2024-06-24T18:16:25.967842Z",
          "iopub.execute_input": "2024-06-24T18:16:25.968236Z",
          "iopub.status.idle": "2024-06-24T18:16:25.988325Z",
          "shell.execute_reply.started": "2024-06-24T18:16:25.968204Z",
          "shell.execute_reply": "2024-06-24T18:16:25.987303Z"
        },
        "trusted": true,
        "id": "8dn5eCnyfk5s"
      },
      "execution_count": null,
      "outputs": []
    },
    {
      "cell_type": "code",
      "source": [
        "filename = '/kaggle/working/model.h1.23_jan_19.keras'\n",
        "checkpoint = ModelCheckpoint(filename, monitor='val_loss', verbose=1, save_best_only=True, mode='min')\n",
        "\n",
        "history = model.fit(x_train, y_train.reshape(y_train.shape[0], y_train.shape[1], 1),\n",
        "                    epochs=30, batch_size=256, validation_split=0.2, callbacks=[checkpoint], verbose=1)"
      ],
      "metadata": {
        "execution": {
          "iopub.status.busy": "2024-06-24T18:16:26.223129Z",
          "iopub.execute_input": "2024-06-24T18:16:26.223752Z"
        },
        "trusted": true,
        "id": "kWyLQbH8fk5s",
        "outputId": "c3f7834e-8664-4756-f71e-fad0db4e8245"
      },
      "execution_count": null,
      "outputs": [
        {
          "name": "stdout",
          "text": "Epoch 1/30\n",
          "output_type": "stream"
        }
      ]
    },
    {
      "cell_type": "code",
      "source": [],
      "metadata": {
        "id": "18fBtO_nfk5s"
      },
      "execution_count": null,
      "outputs": []
    },
    {
      "cell_type": "code",
      "source": [],
      "metadata": {
        "id": "AZQCOve6fk5s"
      },
      "execution_count": null,
      "outputs": []
    },
    {
      "cell_type": "code",
      "source": [],
      "metadata": {
        "id": "JrmbxHDrfk5t"
      },
      "execution_count": null,
      "outputs": []
    }
  ]
}